{
  "nbformat": 4,
  "nbformat_minor": 0,
  "metadata": {
    "colab": {
      "provenance": [],
      "gpuType": "T4"
    },
    "kernelspec": {
      "name": "python3",
      "display_name": "Python 3"
    },
    "language_info": {
      "name": "python"
    },
    "accelerator": "GPU"
  },
  "cells": [
    {
      "cell_type": "code",
      "source": [
        "#WORKING RALDOLPH'S KAPPA\n",
        "import pandas as pd\n",
        "import numpy as np\n",
        "\n",
        "def multirater_kfree(n_ij, n, k):\n",
        "\n",
        "    N = len(n_ij)\n",
        "\n",
        "    P_e = 1. / k\n",
        "    # Convert elements of n_ij to numeric, coerce errors to NaN, and then fill NaNs with 0\n",
        "    # Added error handling for non-numeric values\n",
        "    n_ij = [[float(x) if str(x).replace('.', '', 1).isdigit() else 0 for x in row] for row in n_ij]\n",
        "    n_ij = np.array(n_ij, dtype=np.float64)\n",
        "    n_ij[np.isnan(n_ij)] = 0\n",
        "\n",
        "    # Correct the calculation of P_O by adjusting loop ranges\n",
        "    P_O = (\n",
        "        1. / (N * n * (n - 1)) *\n",
        "        (sum(n_ij[i][j]**2 for i in range(N) for j in range(len(n_ij[i]))) - N * n) # Changed k to len(n_ij[i])\n",
        "    )\n",
        "\n",
        "    kfree = (P_O - P_e) / (1 - P_e)\n",
        "\n",
        "    return P_O, kfree\n",
        "\n",
        "# Function to load data and calculate kappa\n",
        "def calculate_kappa_from_excel(file_path):\n",
        "    # Load the Excel file\n",
        "    df = pd.read_excel('agreement (4).xlsx')\n",
        "\n",
        "    # Assuming the DataFrame is structured with columns for raters and categories\n",
        "    # Modify this part based on your Excel file structure\n",
        "    n = len(df.columns)  # Number of raters\n",
        "    k = len(df.index)    # Number of categories (or cases)\n",
        "\n",
        "    # Create n_ij matrix from the DataFrame\n",
        "    n_ij = df.values.tolist()  # Convert DataFrame to a list of lists\n",
        "\n",
        "    # Calculate kappa\n",
        "    P_O, kfree = multirater_kfree(n_ij, n, k)\n",
        "    return P_O, kfree\n",
        "\n",
        "# Example usage\n",
        "file_path = 'agreement (4).xlsx'  # Update with your actual uploaded file path\n",
        "P_O, kfree = calculate_kappa_from_excel(file_path)\n",
        "print(f\"Overall Agreement (P_O): {P_O:.3f}, Free Marginal Kappa: {kfree:.3f}\")\n"
      ],
      "metadata": {
        "colab": {
          "base_uri": "https://localhost:8080/"
        },
        "id": "9HprgeGOYVSo",
        "outputId": "61dc8598-0dd5-4ddf-ca03-296c12c2b1f0"
      },
      "execution_count": null,
      "outputs": [
        {
          "output_type": "stream",
          "name": "stdout",
          "text": [
            "Overall Agreement (P_O): 0.702, Free Marginal Kappa: 0.693\n"
          ]
        }
      ]
    }
  ]
}